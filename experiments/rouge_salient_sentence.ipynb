{
 "cells": [
  {
   "cell_type": "code",
   "execution_count": 1,
   "id": "3cf3190d",
   "metadata": {},
   "outputs": [],
   "source": [
    "from rouge_score import rouge_scorer\n",
    "import os\n",
    "import re\n",
    "from glob import glob\n",
    "import random\n",
    "import jsonlines\n",
    "from torch.utils.data import Dataset\n",
    "from util import *\n",
    "import torch\n",
    "from tqdm import tqdm\n",
    "from transformers import AutoTokenizer\n",
    "from nltk.tokenize import sent_tokenize, word_tokenize\n",
    "import numpy as np\n",
    "import matplotlib.pyplot as plt"
   ]
  },
  {
   "cell_type": "code",
   "execution_count": 2,
   "id": "2cd4c7d3",
   "metadata": {},
   "outputs": [],
   "source": [
    "from dataset import CORWAanalysisDataset"
   ]
  },
  {
   "cell_type": "code",
   "execution_count": 3,
   "id": "1513f948",
   "metadata": {},
   "outputs": [],
   "source": [
    "def metric(scores): \n",
    "    return (scores[\"rouge1\"][1] + scores[\"rouge2\"][1]) / 2"
   ]
  },
  {
   "cell_type": "code",
   "execution_count": 4,
   "id": "0e4e55e2",
   "metadata": {},
   "outputs": [],
   "source": [
    "def patch_sent_tokenize(sentences):\n",
    "    out = []\n",
    "    i = 0\n",
    "    while i < len(sentences):\n",
    "        if i>0 and sentences[i-1][-4:] == \" et.\" and sentences[i][:2] == \"al\":\n",
    "            out[-1] += \" \" + sentences[i]\n",
    "        elif i>0 and (sentences[i-1][-4:] == \" al.\" or sentences[i-1]==\"al.\"):\n",
    "            out[-1] += \" \" + sentences[i]\n",
    "        elif i>0 and sentences[i-1][-4:] == \"e.g.\":\n",
    "            out[-1] += \" \" + sentences[i]\n",
    "        elif i>0 and sentences[i-1][-4:] == \"i.e.\":\n",
    "            out[-1] += \" \" + sentences[i]\n",
    "        elif i>0 and sentences[i-1][-4:] == \"Ref.\":\n",
    "            out[-1] += \" \" + sentences[i]\n",
    "        elif i>0 and sentences[i-1][-3:] == \"Eq.\":\n",
    "            out[-1] += \" \" + sentences[i]\n",
    "        elif i>0 and sentences[i-1][-4:] == \"Sec.\":\n",
    "            out[-1] += \" \" + sentences[i]\n",
    "        else:\n",
    "            out.append(sentences[i])\n",
    "        i += 1\n",
    "    return out"
   ]
  },
  {
   "cell_type": "code",
   "execution_count": 5,
   "id": "5ed329a9",
   "metadata": {},
   "outputs": [],
   "source": [
    "def retrieve_sentence_by_rouge(citing_sentence, cited_metadata, cited_paper):\n",
    "    cited_paper_sentences = []\n",
    "    cited_paper_sentences.append((\"Title\",cited_metadata[\"title\"], metric(scorer.score(citing_sentence,cited_metadata[\"title\"]))))\n",
    "    for key in [\"abstract\", \"body_text\"]: #[\"abstract\"]: \n",
    "        for para in cited_paper[key]:\n",
    "            section = para[\"section\"]\n",
    "            for sentence in patch_sent_tokenize(sent_tokenize(para[\"text\"])):\n",
    "                sentence = re.sub(\"([^\\x00-\\x7F])+\",\"\",sentence)\n",
    "                scores = scorer.score(citing_sentence,sentence)\n",
    "                mean_f1 = metric(scores)\n",
    "                if mean_f1:\n",
    "                    cited_paper_sentences.append((section, sentence, mean_f1))\n",
    "    sorted_cited_paper_sentences = sorted(cited_paper_sentences, key=lambda r:r[-1])[::-1]\n",
    "    return sorted_cited_paper_sentences"
   ]
  },
  {
   "cell_type": "code",
   "execution_count": 6,
   "id": "2b747967",
   "metadata": {},
   "outputs": [
    {
     "data": {
      "text/plain": [
       "17"
      ]
     },
     "execution_count": 6,
     "metadata": {},
     "output_type": "execute_result"
    }
   ],
   "source": [
    "discourse_label_types = {\"Intro\": 0,\n",
    "    \"Single_summ\": 1,\n",
    "    \"Multi_summ\": 2,\n",
    "    \"Narrative_cite\":3,\n",
    "    \"Reflection\":4,\n",
    "    \"Transition\":5,\n",
    "    \"Other\":6\n",
    "    }\n",
    "\n",
    "special_tokens = ['[BOS]', '[B_span]', '[E_span]', '[B_Dominant]', '[I_Dominant]', '[E_Dominant]', '[B_Reference]', '[I_Reference]','[E_Reference]', '[O]']\n",
    "discourse_tokens = []\n",
    "for k,v in discourse_label_types.items():\n",
    "    discourse_tokens.append(\"[\"+k+\"]\")\n",
    "special_tokens.extend(discourse_tokens)\n",
    "\n",
    "tokenizer = AutoTokenizer.from_pretrained(\"allenai/scibert_scivocab_uncased\")\n",
    "additional_special_tokens = {'additional_special_tokens': special_tokens} \n",
    "tokenizer.add_special_tokens(additional_special_tokens)"
   ]
  },
  {
   "cell_type": "code",
   "execution_count": 7,
   "id": "94a991df",
   "metadata": {},
   "outputs": [],
   "source": [
    "scorer = rouge_scorer.RougeScorer(['rouge1', 'rouge2','rougeL'], use_stemmer=True)"
   ]
  },
  {
   "cell_type": "code",
   "execution_count": 8,
   "id": "d90e5cc6",
   "metadata": {},
   "outputs": [],
   "source": [
    "dataset = CORWAanalysisDataset(\"/home/data/XiangciLi/CORWA/all_annotated_latest\", tokenizer) ####"
   ]
  },
  {
   "cell_type": "code",
   "execution_count": 9,
   "id": "19bb6096",
   "metadata": {
    "scrolled": true
   },
   "outputs": [
    {
     "name": "stderr",
     "output_type": "stream",
     "text": [
      "100%|██████████| 2927/2927 [45:21<00:00,  1.08it/s]  \n"
     ]
    }
   ],
   "source": [
    "dominant_top_rouge = []\n",
    "reference_top_rouge = []\n",
    "for citing_data in tqdm(dataset):\n",
    "    for citing_sentence, citation_link in zip(citing_data[\"sentences\"], citing_data[\"citation_links_by_sentence\"]):\n",
    "        for citation_type, l in zip([\"Dominant\", \"Reference\"],[dominant_top_rouge, reference_top_rouge]):\n",
    "            for k,v in citation_link[citation_type].items():\n",
    "                if v in dataset.cited_metadata and v in dataset.cited_paper:\n",
    "                    cited_metadata = dataset.cited_metadata[v]\n",
    "                    cited_paper = dataset.cited_paper[v]\n",
    "                    sorted_cited_paper_sentences = retrieve_sentence_by_rouge(citing_sentence, cited_metadata, cited_paper)\n",
    "                    l.append(sorted_cited_paper_sentences[0][-1])"
   ]
  },
  {
   "cell_type": "code",
   "execution_count": 10,
   "id": "60e99f0a",
   "metadata": {},
   "outputs": [
    {
     "data": {
      "image/png": "[encoded data removed]",
      "text/plain": [
       "<Figure size 432x288 with 1 Axes>"
      ]
     },
     "metadata": {
      "needs_background": "light"
     },
     "output_type": "display_data"
    }
   ],
   "source": [
    "plt.figure()\n",
    "plt.hist(dominant_top_rouge,20,color=\"b\",alpha=0.75)\n",
    "plt.hist(reference_top_rouge,20,color='r', alpha=0.75)\n",
    "plt.show()"
   ]
  },
  {
   "cell_type": "code",
   "execution_count": 11,
   "id": "1e554a9e",
   "metadata": {
    "scrolled": true
   },
   "outputs": [
    {
     "name": "stderr",
     "output_type": "stream",
     "text": [
      "100%|██████████| 2927/2927 [24:23<00:00,  2.00it/s] \n"
     ]
    }
   ],
   "source": [
    "dominant_span_top_rouge = []\n",
    "reference_span_top_rouge = []\n",
    "for citing_data in tqdm(dataset):\n",
    "    for span in citing_data[\"span_citation_mapping\"]:\n",
    "        span_text = citing_data[\"paragraph\"][span[\"char_start\"]: span[\"char_end\"]]\n",
    "        \n",
    "        for Type, citations in span[\"span_citation_mapping\"].items():\n",
    "            for k,v in citations.items():\n",
    "                span_text = span_text.replace(k, \"\")\n",
    "        \n",
    "        for citation_type, l in zip([\"Dominant\", \"Reference\"],[dominant_span_top_rouge, reference_span_top_rouge]):\n",
    "            for k,v in span['span_citation_mapping'][citation_type].items():\n",
    "                if v in dataset.cited_metadata and v in dataset.cited_paper:\n",
    "                    cited_metadata = dataset.cited_metadata[v]\n",
    "                    cited_paper = dataset.cited_paper[v]\n",
    "                    sorted_cited_paper_sentences = retrieve_sentence_by_rouge(span_text, cited_metadata, cited_paper)\n",
    "                    l.append(sorted_cited_paper_sentences[0][-1])"
   ]
  },
  {
   "cell_type": "code",
   "execution_count": 12,
   "id": "6d85ac4e",
   "metadata": {},
   "outputs": [
    {
     "data": {
      "image/png": "[encoded data removed]",
      "text/plain": [
       "<Figure size 432x288 with 1 Axes>"
      ]
     },
     "metadata": {
      "needs_background": "light"
     },
     "output_type": "display_data"
    }
   ],
   "source": [
    "plt.figure()\n",
    "plt.hist(dominant_span_top_rouge,20,color=\"b\",alpha=0.75)\n",
    "plt.hist(reference_span_top_rouge,20,color='r', alpha=0.75)\n",
    "plt.show()"
   ]
  },
  {
   "cell_type": "code",
   "execution_count": 13,
   "id": "4769a1f9",
   "metadata": {},
   "outputs": [],
   "source": [
    "line_metric = np.mean"
   ]
  },
  {
   "cell_type": "code",
   "execution_count": 14,
   "id": "1cb146f2",
   "metadata": {},
   "outputs": [
    {
     "data": {
      "text/plain": [
       "(0.29259677540954765,\n",
       " 0.21984365849469684,\n",
       " 0.3155392836059902,\n",
       " 0.4491081779999782)"
      ]
     },
     "execution_count": 14,
     "metadata": {},
     "output_type": "execute_result"
    }
   ],
   "source": [
    "line_metric(dominant_top_rouge), line_metric(reference_top_rouge), line_metric(dominant_span_top_rouge), line_metric(reference_span_top_rouge)"
   ]
  },
  {
   "cell_type": "code",
   "execution_count": 15,
   "id": "8276fd6c",
   "metadata": {},
   "outputs": [
    {
     "data": {
      "image/png": "[encoded data removed]",
      "text/plain": [
       "<Figure size 432x324 with 1 Axes>"
      ]
     },
     "metadata": {
      "needs_background": "light"
     },
     "output_type": "display_data"
    }
   ],
   "source": [
    "bins = 25\n",
    "alpha = 0.6\n",
    "fig, ax = plt.subplots(figsize=(6,4.5))\n",
    "plt.hist(reference_top_rouge,bins, alpha=alpha, label=\"Reference Sentence\")\n",
    "plt.hist(reference_span_top_rouge,bins, alpha=alpha, label=\"Reference Span\")\n",
    "plt.hist(dominant_top_rouge,bins, histtype='step', color=\"b\", alpha=1, linewidth=2, label=\"Dominant Sentence\")\n",
    "plt.hist(dominant_span_top_rouge,bins, histtype='step', color=\"r\", linewidth=2, alpha=1, label=\"Dominant Span\")\n",
    "\n",
    "plt.vlines([line_metric(dominant_top_rouge)],-50, 1300, color=\"black\", linewidth=1, linestyles=\"dashed\")\n",
    "plt.vlines([line_metric(reference_top_rouge)],-50, 1300, color=\"black\", linewidth=1, linestyles=\"dashed\")\n",
    "plt.vlines([line_metric(dominant_span_top_rouge)],-50, 1300, color=\"black\", linewidth=1, linestyles=\"dashed\")\n",
    "plt.vlines([line_metric(reference_span_top_rouge)],-50, 1300, color=\"black\", linewidth=1, linestyles=\"dashed\")\n",
    "\n",
    "ax.spines['top'].set_visible(False)\n",
    "ax.spines['right'].set_visible(False)\n",
    "ax.xaxis.set_ticks_position('bottom')\n",
    "ax.yaxis.set_ticks_position('left')\n",
    "\n",
    "plt.ylim([0,1250])\n",
    "plt.xlabel(\"Top-1 ROUGE recall\")\n",
    "plt.ylabel(\"Count\")\n",
    "#plt.title(\"Histogram of top-1 ROUGE recall\")\n",
    "plt.legend(loc=\"upper right\")\n",
    "#plt.show()\n",
    "plt.savefig(\"ROUGE_retrieval.pdf\",dpi=600,bbox_inches='tight')"
   ]
  },
  {
   "cell_type": "code",
   "execution_count": 16,
   "id": "7ad08dc1",
   "metadata": {},
   "outputs": [
    {
     "data": {
      "image/png": "[encoded data removed]",
      "text/plain": [
       "<Figure size 432x288 with 1 Axes>"
      ]
     },
     "metadata": {
      "needs_background": "light"
     },
     "output_type": "display_data"
    }
   ],
   "source": [
    "plt.figure()\n",
    "plt.hist(dominant_top_rouge,20,color=\"b\",alpha=0.75)\n",
    "#plt.hist(reference_top_rouge,20,color='r', alpha=0.75)\n",
    "plt.hist(dominant_span_top_rouge,20,color=\"cyan\",alpha=0.75)\n",
    "#plt.hist(reference_span_top_rouge,20,color='pink', alpha=0.75)\n",
    "plt.title(\"Histogram of top-1 ROUGE recall\")\n",
    "plt.show()"
   ]
  },
  {
   "cell_type": "code",
   "execution_count": 17,
   "id": "a69f260d",
   "metadata": {},
   "outputs": [
    {
     "data": {
      "image/png": "[encoded data removed]",
      "text/plain": [
       "<Figure size 432x288 with 1 Axes>"
      ]
     },
     "metadata": {
      "needs_background": "light"
     },
     "output_type": "display_data"
    }
   ],
   "source": [
    "plt.figure()\n",
    "#plt.hist(dominant_top_rouge,20,color=\"b\",alpha=0.75)\n",
    "plt.hist(reference_top_rouge,20,color='r', alpha=0.75)\n",
    "#plt.hist(dominant_span_top_rouge,20,color=\"cyan\",alpha=0.75)\n",
    "plt.hist(reference_span_top_rouge,20,color='pink', alpha=0.75)\n",
    "plt.title(\"Histogram of top-1 ROUGE recall\")\n",
    "plt.show()"
   ]
  },
  {
   "cell_type": "code",
   "execution_count": null,
   "id": "57ca3b94",
   "metadata": {},
   "outputs": [],
   "source": []
  }
 ],
 "metadata": {
  "kernelspec": {
   "display_name": "Python 3",
   "language": "python",
   "name": "python3"
  },
  "language_info": {
   "codemirror_mode": {
    "name": "ipython",
    "version": 3
   },
   "file_extension": ".py",
   "mimetype": "text/x-python",
   "name": "python",
   "nbconvert_exporter": "python",
   "pygments_lexer": "ipython3",
   "version": "3.6.13"
  }
 },
 "nbformat": 4,
 "nbformat_minor": 5
}
