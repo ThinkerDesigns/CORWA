{
 "cells": [
  {
   "cell_type": "code",
   "execution_count": 1,
   "id": "d0ddb6ad",
   "metadata": {},
   "outputs": [],
   "source": [
    "%load_ext autoreload\n",
    "%autoreload 2"
   ]
  },
  {
   "cell_type": "code",
   "execution_count": 2,
   "id": "1453cfe9",
   "metadata": {},
   "outputs": [],
   "source": [
    "from tqdm import tqdm\n",
    "import torch\n",
    "from datasets import load_dataset, load_metric\n",
    "from transformers import AutoTokenizer, AutoModelForSeq2SeqLM\n",
    "from dataset import CitationTextGenerationDataset\n",
    "from torch.utils.data import Dataset, DataLoader"
   ]
  },
  {
   "cell_type": "code",
   "execution_count": 3,
   "id": "d0e05226",
   "metadata": {},
   "outputs": [],
   "source": [
    "device = \"cuda\""
   ]
  },
  {
   "cell_type": "code",
   "execution_count": 4,
   "id": "cfaafd5e",
   "metadata": {},
   "outputs": [],
   "source": [
    "max_input_length = 16384\n",
    "max_output_length = 1024"
   ]
  },
  {
   "cell_type": "code",
   "execution_count": 5,
   "id": "75b4039d",
   "metadata": {},
   "outputs": [],
   "source": [
    "def process_data_to_model_inputs(batch, special_tokens=['[Dominant]', '[Reference]']):\n",
    "    # tokenize the inputs and labels\n",
    "    \n",
    "    additional_special_tokens_lookup = {token: idx for token, idx in zip(tokenizer.additional_special_tokens, tokenizer.additional_special_tokens_ids)}\n",
    "    special_token_ids = set([additional_special_tokens_lookup[token] for token in special_tokens])\n",
    "    special_token_ids.add(tokenizer.mask_token_id)\n",
    "    \n",
    "    inputs = tokenizer(\n",
    "        batch[\"source\"],\n",
    "        padding=\"max_length\",\n",
    "        truncation=True,\n",
    "        max_length=max_input_length,\n",
    "        add_special_tokens=True \n",
    "    )\n",
    "    outputs = tokenizer(\n",
    "        batch[\"target\"],\n",
    "        padding=\"max_length\",\n",
    "        truncation=True,\n",
    "        max_length=max_output_length,\n",
    "        add_special_tokens=True \n",
    "    )\n",
    "\n",
    "    batch[\"input_ids\"] = inputs.input_ids\n",
    "    batch[\"attention_mask\"] = inputs.attention_mask\n",
    "\n",
    "    # create 0 global_attention_mask lists\n",
    "    batch[\"global_attention_mask\"] = len(batch[\"input_ids\"]) * [\n",
    "        [0 for _ in range(len(batch[\"input_ids\"][0]))]\n",
    "    ]\n",
    "\n",
    "    # since above lists are references, the following line changes the 0 index for all samples\n",
    "    for i_batch in range(len(batch[\"input_ids\"])):\n",
    "        for i_token in range(len(batch[\"input_ids\"][0])):\n",
    "            if batch[\"input_ids\"][i_batch][i_token] in special_token_ids:\n",
    "                batch[\"global_attention_mask\"][i_batch][i_token] = 1\n",
    "            \n",
    "    batch[\"labels\"] = outputs.input_ids\n",
    "\n",
    "    # We have to make sure that the PAD token is ignored\n",
    "    batch[\"labels\"] = [\n",
    "        [-100 if token == tokenizer.pad_token_id else token for token in labels]\n",
    "        for labels in batch[\"labels\"]\n",
    "    ]\n",
    "    return batch"
   ]
  },
  {
   "cell_type": "code",
   "execution_count": 6,
   "id": "e0b5d334",
   "metadata": {},
   "outputs": [
    {
     "data": {
      "text/plain": [
       "9"
      ]
     },
     "execution_count": 6,
     "metadata": {},
     "output_type": "execute_result"
    }
   ],
   "source": [
    "tokenizer = AutoTokenizer.from_pretrained(\"allenai/led-base-16384\")\n",
    "special_tokens = ['<doc>','</doc>', '[BOS]', '[Dominant]', '[Reference]', '[B_Dominant]',  '[E_Dominant]', '[B_Reference]', '[E_Reference]']\n",
    "additional_special_tokens = {'additional_special_tokens': special_tokens}\n",
    "tokenizer.add_special_tokens(additional_special_tokens)"
   ]
  },
  {
   "cell_type": "code",
   "execution_count": 7,
   "id": "a0b09a13",
   "metadata": {},
   "outputs": [],
   "source": [
    "model = AutoModelForSeq2SeqLM.from_pretrained(\"checkpoint-46500\")"
   ]
  },
  {
   "cell_type": "code",
   "execution_count": 8,
   "id": "707beedb",
   "metadata": {},
   "outputs": [],
   "source": [
    "model = model.to(device).half()"
   ]
  },
  {
   "cell_type": "code",
   "execution_count": 9,
   "id": "87672116",
   "metadata": {},
   "outputs": [
    {
     "name": "stderr",
     "output_type": "stream",
     "text": [
      "100%|██████████| 362/362 [00:15<00:00, 23.05it/s]\n"
     ]
    }
   ],
   "source": [
    "val_set = CitationTextGenerationDataset(\n",
    "    \"/home/data/XiangciLi/CORWA/annotated_test\", \n",
    "    tokenizer, \n",
    "    MAX_SENT_LEN = max_input_length,\n",
    "    related_work_path='/home/data/XiangciLi/20200705v1/acl/selected_related_work.jsonl',\n",
    "    cited_metadata_path='/home/data/XiangciLi/20200705v1/acl/selected_cited_metadata.jsonl',\n",
    "    cited_paper_path=\"/home/data/XiangciLi/20200705v1/acl/selected_cited_pdf_parses.jsonl\",\n",
    "    citing_paper_path=\"/home/data/XiangciLi/20200705v1/acl/selected_pdf_parses.jsonl\"\n",
    ")"
   ]
  },
  {
   "cell_type": "code",
   "execution_count": 36,
   "id": "3d7d961f",
   "metadata": {},
   "outputs": [],
   "source": [
    "def run_model(batch, model):\n",
    "    processed_batch = process_data_to_model_inputs(batch, special_tokens=['[Dominant]', '[Reference]'])\n",
    "    processed_batch_cuda = {}\n",
    "    for key in [\"input_ids\", \"attention_mask\", \"global_attention_mask\", \"labels\"]:\n",
    "        processed_batch_cuda[key] = torch.tensor(processed_batch[key]).to(device)\n",
    "    predicted_abstract_ids = model.generate(\n",
    "        processed_batch_cuda[\"input_ids\"], \n",
    "        attention_mask=processed_batch_cuda[\"attention_mask\"], \n",
    "        global_attention_mask=processed_batch_cuda[\"global_attention_mask\"]\n",
    "    )\n",
    "    out = tokenizer.batch_decode(predicted_abstract_ids, skip_special_tokens=True)\n",
    "    target = batch[\"target\"]\n",
    "    return out, target"
   ]
  },
  {
   "cell_type": "code",
   "execution_count": 4,
   "id": "54c5fc18",
   "metadata": {
    "scrolled": true
   },
   "outputs": [],
   "source": [
    "# for batch in tqdm(DataLoader(val_set, batch_size = 1, shuffle=False)):\n",
    "#     if '[Dominant]' in batch[\"source\"][0]:\n",
    "#         out, target = run_model(batch, model)\n",
    "#         print(\"Dominant: \", out)\n",
    "#         batch[\"source\"][0] = batch[\"source\"][0].replace(\"[Dominant]\", \"[Reference]\")\n",
    "#         out, target = run_model(batch, model)\n",
    "#         print(\"Reference: \", out)\n",
    "#         print(\"Dominant label: \", target)\n",
    "#         print()\n",
    "#     elif '[Reference]' in batch[\"source\"][0]:\n",
    "#         out, target = run_model(batch, model)\n",
    "#         print(\"Reference: \", out)\n",
    "#         batch[\"source\"][0] = batch[\"source\"][0].replace(\"[Reference]\", \"[Dominant]\")\n",
    "#         out, target = run_model(batch, model)\n",
    "#         print(\"Dominant: \", out)\n",
    "#         print(\"Reference label: \", target)\n",
    "#         print()"
   ]
  },
  {
   "cell_type": "code",
   "execution_count": 41,
   "id": "54862ffa",
   "metadata": {
    "scrolled": true
   },
   "outputs": [
    {
     "name": "stderr",
     "output_type": "stream",
     "text": [
      "100%|██████████| 551/551 [3:21:32<00:00, 21.95s/it]  \n"
     ]
    }
   ],
   "source": [
    "reference_predicted = []\n",
    "reference_reference = []\n",
    "dominant_predicted = []\n",
    "dominant_reference = []\n",
    "with open(\"sample_output.txt\",\"w\") as f:\n",
    "    for batch in tqdm(DataLoader(val_set, batch_size = 6, shuffle=False)):\n",
    "        processed_batch = process_data_to_model_inputs(batch, special_tokens=['[Dominant]', '[Reference]'])\n",
    "        processed_batch_cuda = {}\n",
    "        for key in [\"input_ids\", \"attention_mask\", \"global_attention_mask\", \"labels\"]:\n",
    "            processed_batch_cuda[key] = torch.tensor(processed_batch[key]).to(device)\n",
    "        predicted_abstract_ids = model.generate(\n",
    "            processed_batch_cuda[\"input_ids\"], \n",
    "            attention_mask=processed_batch_cuda[\"attention_mask\"], \n",
    "            global_attention_mask=processed_batch_cuda[\"global_attention_mask\"]\n",
    "        )\n",
    "        out = tokenizer.batch_decode(predicted_abstract_ids, skip_special_tokens=True)\n",
    "        target = batch[\"target\"]\n",
    "        for o,t in zip(out,target):\n",
    "            f.write(o+\"\\n\")\n",
    "            f.write(t+\"\\n\")\n",
    "            f.write(\"\\n\")\n",
    "    #cleaned_out = []\n",
    "    #cleaned_target = []\n",
    "    for pred, label, citation, source in zip(out, target, batch[\"citations\"], batch[\"source\"]):\n",
    "       for c in citation.split(\"#\"):\n",
    "           pred = pred.replace(c,\"\")\n",
    "           label = label.replace(c,\"\")\n",
    "       if \"[Dominant]\" in source:\n",
    "           dominant_predicted.append(pred)\n",
    "           dominant_reference.append(label)\n",
    "       elif \"[Reference]\" in source:\n",
    "           reference_predicted.append(pred)\n",
    "           reference_reference.append(label)"
   ]
  },
  {
   "cell_type": "code",
   "execution_count": 33,
   "id": "8a3c6a8a",
   "metadata": {},
   "outputs": [],
   "source": [
    "rouge = load_metric(\"rouge\")"
   ]
  },
  {
   "cell_type": "code",
   "execution_count": 1,
   "id": "89da05e6",
   "metadata": {},
   "outputs": [],
   "source": [
    "rouge.compute(\n",
    "    predictions=predicted, \n",
    "    references=reference, \n",
    "    rouge_types=[\"rouge1\",\"rouge2\",\"rougeL\"]\n",
    ")"
   ]
  },
  {
   "cell_type": "code",
   "execution_count": 2,
   "id": "07ffb414",
   "metadata": {},
   "outputs": [],
   "source": [
    "rouge.compute(\n",
    "    predictions=dominant_predicted, \n",
    "    references=dominant_reference, \n",
    "    rouge_types=[\"rouge1\",\"rouge2\",\"rougeL\"]\n",
    ")"
   ]
  },
  {
   "cell_type": "code",
   "execution_count": 3,
   "id": "c67a592a",
   "metadata": {},
   "outputs": [],
   "source": [
    "rouge.compute(\n",
    "    predictions=reference_predicted, \n",
    "    references=reference_reference, \n",
    "    rouge_types=[\"rouge1\",\"rouge2\",\"rougeL\"]\n",
    ")"
   ]
  },
  {
   "cell_type": "code",
   "execution_count": null,
   "id": "7dc76785",
   "metadata": {},
   "outputs": [],
   "source": []
  }
 ],
 "metadata": {
  "kernelspec": {
   "display_name": "Python 3",
   "language": "python",
   "name": "python3"
  },
  "language_info": {
   "codemirror_mode": {
    "name": "ipython",
    "version": 3
   },
   "file_extension": ".py",
   "mimetype": "text/x-python",
   "name": "python",
   "nbconvert_exporter": "python",
   "pygments_lexer": "ipython3",
   "version": "3.7.11"
  }
 },
 "nbformat": 4,
 "nbformat_minor": 5
}
