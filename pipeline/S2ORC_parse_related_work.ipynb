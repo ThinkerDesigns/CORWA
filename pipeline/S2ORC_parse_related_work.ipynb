{
 "cells": [
  {
   "cell_type": "code",
   "execution_count": 1,
   "metadata": {},
   "outputs": [],
   "source": [
    "import json\n",
    "from tqdm import tqdm"
   ]
  },
  {
   "cell_type": "code",
   "execution_count": 2,
   "metadata": {},
   "outputs": [
    {
     "name": "stderr",
     "output_type": "stream",
     "text": [
      "40317it [00:01, 30667.35it/s]\n"
     ]
    }
   ],
   "source": [
    "titles = {}\n",
    "with open(\"20200705v1/acl/metadata.jsonl\", \"r\") as meta_pdf:\n",
    "    for line in tqdm(meta_pdf):\n",
    "        meta_dict = json.loads(line)\n",
    "        titles[meta_dict[\"paper_id\"]] = meta_dict[\"title\"]"
   ]
  },
  {
   "cell_type": "code",
   "execution_count": 5,
   "metadata": {},
   "outputs": [
    {
     "name": "stderr",
     "output_type": "stream",
     "text": [
      "40317it [00:31, 1299.87it/s]\n"
     ]
    }
   ],
   "source": [
    "with open(\"20200705v1/acl/pdf_parses.jsonl\", \"r\") as acl_pdf:\n",
    "    with open(f'20200705v1/acl/related_work.jsonl',\"w\") as f_pdf:\n",
    "        for line in tqdm(acl_pdf):\n",
    "            filtered_dict = {}\n",
    "            pdf_parse_dict = json.loads(line)\n",
    "            filtered_dict[\"paper_id\"] = pdf_parse_dict[\"paper_id\"]\n",
    "            filtered_dict[\"title\"] = titles[pdf_parse_dict[\"paper_id\"]]\n",
    "            filtered_dict[\"abstract\"] = pdf_parse_dict[\"abstract\"]\n",
    "            filtered_dict[\"bib_entries\"] = pdf_parse_dict[\"bib_entries\"]\n",
    "            filtered_dict[\"related_work\"] = []\n",
    "            for paragraph in pdf_parse_dict[\"body_text\"]:\n",
    "                if \"related\" in paragraph[\"section\"].lower():\n",
    "                    filtered_dict[\"related_work\"].append(paragraph)\n",
    "            if len(filtered_dict[\"related_work\"]) > 0:\n",
    "                json.dump(filtered_dict,f_pdf)\n",
    "                f_pdf.write(\"\\n\")"
   ]
  },
  {
   "cell_type": "code",
   "execution_count": 7,
   "metadata": {},
   "outputs": [
    {
     "name": "stderr",
     "output_type": "stream",
     "text": [
      "15483it [00:02, 5854.42it/s]\n"
     ]
    }
   ],
   "source": [
    "all_ref_paper_ids = set([])\n",
    "with open(f'20200705v1/acl/related_work.jsonl',\"r\") as f_pdf:\n",
    "    for line in tqdm(f_pdf):\n",
    "        related_work_dict = json.loads(line)\n",
    "        ref_ids = []\n",
    "        for paragraph in related_work_dict[\"related_work\"]:\n",
    "            for ref in paragraph[\"cite_spans\"]:\n",
    "                ref_ids.append(ref[\"ref_id\"])\n",
    "        \n",
    "        for ref in ref_ids:\n",
    "            try:\n",
    "                all_ref_paper_ids.add(related_work_dict[\"bib_entries\"][ref][\"link\"])\n",
    "            except:\n",
    "                pass"
   ]
  },
  {
   "cell_type": "code",
   "execution_count": 9,
   "metadata": {},
   "outputs": [
    {
     "data": {
      "text/plain": [
       "41812"
      ]
     },
     "execution_count": 9,
     "metadata": {},
     "output_type": "execute_result"
    }
   ],
   "source": [
    "len(all_ref_paper_ids)"
   ]
  },
  {
   "cell_type": "code",
   "execution_count": 10,
   "metadata": {},
   "outputs": [
    {
     "name": "stderr",
     "output_type": "stream",
     "text": [
      "2450it [00:00, 24496.69it/s]"
     ]
    },
    {
     "name": "stdout",
     "output_type": "stream",
     "text": [
      "0\n"
     ]
    },
    {
     "name": "stderr",
     "output_type": "stream",
     "text": [
      "1366661it [00:22, 60520.33it/s]\n",
      "6012it [00:00, 60117.33it/s]"
     ]
    },
    {
     "name": "stdout",
     "output_type": "stream",
     "text": [
      "1\n"
     ]
    },
    {
     "name": "stderr",
     "output_type": "stream",
     "text": [
      "1365929it [00:22, 60564.70it/s]\n",
      "2513it [00:00, 25125.83it/s]"
     ]
    },
    {
     "name": "stdout",
     "output_type": "stream",
     "text": [
      "2\n"
     ]
    },
    {
     "name": "stderr",
     "output_type": "stream",
     "text": [
      "1365718it [00:21, 64665.21it/s]\n",
      "13169it [00:00, 65971.44it/s]"
     ]
    },
    {
     "name": "stdout",
     "output_type": "stream",
     "text": [
      "3\n"
     ]
    },
    {
     "name": "stderr",
     "output_type": "stream",
     "text": [
      "1365344it [00:20, 65362.22it/s]\n",
      "6657it [00:00, 66568.79it/s]"
     ]
    },
    {
     "name": "stdout",
     "output_type": "stream",
     "text": [
      "4\n"
     ]
    },
    {
     "name": "stderr",
     "output_type": "stream",
     "text": [
      "1365708it [00:21, 64834.24it/s]\n",
      "2399it [00:00, 23985.73it/s]"
     ]
    },
    {
     "name": "stdout",
     "output_type": "stream",
     "text": [
      "5\n"
     ]
    },
    {
     "name": "stderr",
     "output_type": "stream",
     "text": [
      "1368101it [00:21, 62426.31it/s]\n",
      "6461it [00:00, 64608.06it/s]"
     ]
    },
    {
     "name": "stdout",
     "output_type": "stream",
     "text": [
      "6\n"
     ]
    },
    {
     "name": "stderr",
     "output_type": "stream",
     "text": [
      "1363968it [00:21, 62072.03it/s]\n",
      "6039it [00:00, 60384.87it/s]"
     ]
    },
    {
     "name": "stdout",
     "output_type": "stream",
     "text": [
      "7\n"
     ]
    },
    {
     "name": "stderr",
     "output_type": "stream",
     "text": [
      "1363902it [00:21, 62429.39it/s]\n",
      "12562it [00:00, 62807.63it/s]"
     ]
    },
    {
     "name": "stdout",
     "output_type": "stream",
     "text": [
      "8\n"
     ]
    },
    {
     "name": "stderr",
     "output_type": "stream",
     "text": [
      "1366518it [00:21, 62298.27it/s]\n",
      "6567it [00:00, 65648.46it/s]"
     ]
    },
    {
     "name": "stdout",
     "output_type": "stream",
     "text": [
      "9\n"
     ]
    },
    {
     "name": "stderr",
     "output_type": "stream",
     "text": [
      "1366131it [00:22, 62004.85it/s]\n",
      "6230it [00:00, 62298.43it/s]"
     ]
    },
    {
     "name": "stdout",
     "output_type": "stream",
     "text": [
      "10\n"
     ]
    },
    {
     "name": "stderr",
     "output_type": "stream",
     "text": [
      "1365724it [00:21, 62251.86it/s]\n",
      "6206it [00:00, 62057.99it/s]"
     ]
    },
    {
     "name": "stdout",
     "output_type": "stream",
     "text": [
      "11\n"
     ]
    },
    {
     "name": "stderr",
     "output_type": "stream",
     "text": [
      "1364981it [00:21, 62607.66it/s]\n",
      "6604it [00:00, 66038.33it/s]"
     ]
    },
    {
     "name": "stdout",
     "output_type": "stream",
     "text": [
      "12\n"
     ]
    },
    {
     "name": "stderr",
     "output_type": "stream",
     "text": [
      "1368337it [00:21, 62772.07it/s]\n",
      "6189it [00:00, 61887.85it/s]"
     ]
    },
    {
     "name": "stdout",
     "output_type": "stream",
     "text": [
      "13\n"
     ]
    },
    {
     "name": "stderr",
     "output_type": "stream",
     "text": [
      "1365293it [00:21, 62172.85it/s]\n",
      "6710it [00:00, 67086.63it/s]"
     ]
    },
    {
     "name": "stdout",
     "output_type": "stream",
     "text": [
      "14\n"
     ]
    },
    {
     "name": "stderr",
     "output_type": "stream",
     "text": [
      "1366174it [00:21, 62495.96it/s]\n",
      "6167it [00:00, 61659.62it/s]"
     ]
    },
    {
     "name": "stdout",
     "output_type": "stream",
     "text": [
      "15\n"
     ]
    },
    {
     "name": "stderr",
     "output_type": "stream",
     "text": [
      "1365392it [00:21, 62633.10it/s]\n",
      "6159it [00:00, 61580.66it/s]"
     ]
    },
    {
     "name": "stdout",
     "output_type": "stream",
     "text": [
      "16\n"
     ]
    },
    {
     "name": "stderr",
     "output_type": "stream",
     "text": [
      "1365591it [00:22, 61903.78it/s]\n",
      "6258it [00:00, 62574.99it/s]"
     ]
    },
    {
     "name": "stdout",
     "output_type": "stream",
     "text": [
      "17\n"
     ]
    },
    {
     "name": "stderr",
     "output_type": "stream",
     "text": [
      "1365273it [00:21, 63677.51it/s]\n",
      "6636it [00:00, 66359.43it/s]"
     ]
    },
    {
     "name": "stdout",
     "output_type": "stream",
     "text": [
      "18\n"
     ]
    },
    {
     "name": "stderr",
     "output_type": "stream",
     "text": [
      "1366666it [00:22, 61125.35it/s]\n",
      "6310it [00:00, 63092.09it/s]"
     ]
    },
    {
     "name": "stdout",
     "output_type": "stream",
     "text": [
      "19\n"
     ]
    },
    {
     "name": "stderr",
     "output_type": "stream",
     "text": [
      "1365681it [00:23, 57487.20it/s]\n",
      "12407it [00:00, 61800.24it/s]"
     ]
    },
    {
     "name": "stdout",
     "output_type": "stream",
     "text": [
      "20\n"
     ]
    },
    {
     "name": "stderr",
     "output_type": "stream",
     "text": [
      "1364615it [00:21, 62673.44it/s]\n",
      "12875it [00:00, 64391.96it/s]"
     ]
    },
    {
     "name": "stdout",
     "output_type": "stream",
     "text": [
      "21\n"
     ]
    },
    {
     "name": "stderr",
     "output_type": "stream",
     "text": [
      "1366657it [00:23, 59395.02it/s]\n",
      "6564it [00:00, 65630.20it/s]"
     ]
    },
    {
     "name": "stdout",
     "output_type": "stream",
     "text": [
      "22\n"
     ]
    },
    {
     "name": "stderr",
     "output_type": "stream",
     "text": [
      "1364853it [00:22, 60773.84it/s]\n",
      "6477it [00:00, 64765.43it/s]"
     ]
    },
    {
     "name": "stdout",
     "output_type": "stream",
     "text": [
      "23\n"
     ]
    },
    {
     "name": "stderr",
     "output_type": "stream",
     "text": [
      "1364882it [00:21, 63158.60it/s]\n",
      "6269it [00:00, 62681.09it/s]"
     ]
    },
    {
     "name": "stdout",
     "output_type": "stream",
     "text": [
      "24\n"
     ]
    },
    {
     "name": "stderr",
     "output_type": "stream",
     "text": [
      "1365496it [00:21, 63287.63it/s]\n",
      "5700it [00:00, 56994.35it/s]"
     ]
    },
    {
     "name": "stdout",
     "output_type": "stream",
     "text": [
      "25\n"
     ]
    },
    {
     "name": "stderr",
     "output_type": "stream",
     "text": [
      "1365958it [00:21, 62755.39it/s]\n",
      "12566it [00:00, 63205.62it/s]"
     ]
    },
    {
     "name": "stdout",
     "output_type": "stream",
     "text": [
      "26\n"
     ]
    },
    {
     "name": "stderr",
     "output_type": "stream",
     "text": [
      "1365290it [00:21, 63733.26it/s]\n",
      "6232it [00:00, 62307.88it/s]"
     ]
    },
    {
     "name": "stdout",
     "output_type": "stream",
     "text": [
      "27\n"
     ]
    },
    {
     "name": "stderr",
     "output_type": "stream",
     "text": [
      "1365957it [00:23, 58464.21it/s]\n",
      "12683it [00:00, 62926.30it/s]"
     ]
    },
    {
     "name": "stdout",
     "output_type": "stream",
     "text": [
      "28\n"
     ]
    },
    {
     "name": "stderr",
     "output_type": "stream",
     "text": [
      "1367851it [00:21, 63519.72it/s]\n",
      "12967it [00:00, 64648.65it/s]"
     ]
    },
    {
     "name": "stdout",
     "output_type": "stream",
     "text": [
      "29\n"
     ]
    },
    {
     "name": "stderr",
     "output_type": "stream",
     "text": [
      "1364650it [00:21, 62565.01it/s]\n",
      "6174it [00:00, 61735.64it/s]"
     ]
    },
    {
     "name": "stdout",
     "output_type": "stream",
     "text": [
      "30\n"
     ]
    },
    {
     "name": "stderr",
     "output_type": "stream",
     "text": [
      "1366402it [00:22, 60288.33it/s]\n",
      "12979it [00:00, 64321.37it/s]"
     ]
    },
    {
     "name": "stdout",
     "output_type": "stream",
     "text": [
      "31\n"
     ]
    },
    {
     "name": "stderr",
     "output_type": "stream",
     "text": [
      "1364991it [00:22, 59461.66it/s]\n",
      "12510it [00:00, 62394.40it/s]"
     ]
    },
    {
     "name": "stdout",
     "output_type": "stream",
     "text": [
      "32\n"
     ]
    },
    {
     "name": "stderr",
     "output_type": "stream",
     "text": [
      "1366240it [00:21, 63472.11it/s]\n",
      "6107it [00:00, 61067.87it/s]"
     ]
    },
    {
     "name": "stdout",
     "output_type": "stream",
     "text": [
      "33\n"
     ]
    },
    {
     "name": "stderr",
     "output_type": "stream",
     "text": [
      "1364205it [00:22, 59425.01it/s]\n",
      "8689it [00:00, 43399.40it/s]"
     ]
    },
    {
     "name": "stdout",
     "output_type": "stream",
     "text": [
      "34\n"
     ]
    },
    {
     "name": "stderr",
     "output_type": "stream",
     "text": [
      "1366174it [00:22, 61140.22it/s]\n",
      "6165it [00:00, 61647.85it/s]"
     ]
    },
    {
     "name": "stdout",
     "output_type": "stream",
     "text": [
      "35\n"
     ]
    },
    {
     "name": "stderr",
     "output_type": "stream",
     "text": [
      "1365819it [00:24, 56684.99it/s]\n",
      "6247it [00:00, 62467.53it/s]"
     ]
    },
    {
     "name": "stdout",
     "output_type": "stream",
     "text": [
      "36\n"
     ]
    },
    {
     "name": "stderr",
     "output_type": "stream",
     "text": [
      "1364712it [00:23, 58169.07it/s]\n",
      "5979it [00:00, 59775.95it/s]"
     ]
    },
    {
     "name": "stdout",
     "output_type": "stream",
     "text": [
      "37\n"
     ]
    },
    {
     "name": "stderr",
     "output_type": "stream",
     "text": [
      "1366882it [00:23, 59334.70it/s]\n",
      "6212it [00:00, 62117.25it/s]"
     ]
    },
    {
     "name": "stdout",
     "output_type": "stream",
     "text": [
      "38\n"
     ]
    },
    {
     "name": "stderr",
     "output_type": "stream",
     "text": [
      "1366304it [00:23, 57957.12it/s]\n",
      "6540it [00:00, 65393.67it/s]"
     ]
    },
    {
     "name": "stdout",
     "output_type": "stream",
     "text": [
      "39\n"
     ]
    },
    {
     "name": "stderr",
     "output_type": "stream",
     "text": [
      "1365752it [00:21, 63293.65it/s]\n",
      "12316it [00:00, 63241.37it/s]"
     ]
    },
    {
     "name": "stdout",
     "output_type": "stream",
     "text": [
      "40\n"
     ]
    },
    {
     "name": "stderr",
     "output_type": "stream",
     "text": [
      "1366284it [00:21, 63706.06it/s]\n",
      "13300it [00:00, 66586.47it/s]"
     ]
    },
    {
     "name": "stdout",
     "output_type": "stream",
     "text": [
      "41\n"
     ]
    },
    {
     "name": "stderr",
     "output_type": "stream",
     "text": [
      "1365538it [00:21, 63148.70it/s]\n",
      "6264it [00:00, 62638.12it/s]"
     ]
    },
    {
     "name": "stdout",
     "output_type": "stream",
     "text": [
      "42\n"
     ]
    },
    {
     "name": "stderr",
     "output_type": "stream",
     "text": [
      "1366943it [00:21, 63051.74it/s]\n",
      "13347it [00:00, 66782.22it/s]"
     ]
    },
    {
     "name": "stdout",
     "output_type": "stream",
     "text": [
      "43\n"
     ]
    },
    {
     "name": "stderr",
     "output_type": "stream",
     "text": [
      "1364493it [00:21, 63138.37it/s]\n",
      "12359it [00:00, 61989.26it/s]"
     ]
    },
    {
     "name": "stdout",
     "output_type": "stream",
     "text": [
      "44\n"
     ]
    },
    {
     "name": "stderr",
     "output_type": "stream",
     "text": [
      "1368071it [00:21, 63704.57it/s]\n",
      "12410it [00:00, 61897.02it/s]"
     ]
    },
    {
     "name": "stdout",
     "output_type": "stream",
     "text": [
      "45\n"
     ]
    },
    {
     "name": "stderr",
     "output_type": "stream",
     "text": [
      "1364806it [00:21, 63451.25it/s]\n",
      "12987it [00:00, 64985.89it/s]"
     ]
    },
    {
     "name": "stdout",
     "output_type": "stream",
     "text": [
      "46\n"
     ]
    },
    {
     "name": "stderr",
     "output_type": "stream",
     "text": [
      "1363787it [00:21, 62573.04it/s]\n",
      "6082it [00:00, 60808.17it/s]"
     ]
    },
    {
     "name": "stdout",
     "output_type": "stream",
     "text": [
      "47\n"
     ]
    },
    {
     "name": "stderr",
     "output_type": "stream",
     "text": [
      "1367766it [00:22, 61070.88it/s]\n",
      "6352it [00:00, 63512.94it/s]"
     ]
    },
    {
     "name": "stdout",
     "output_type": "stream",
     "text": [
      "48\n"
     ]
    },
    {
     "name": "stderr",
     "output_type": "stream",
     "text": [
      "1366701it [00:21, 62377.80it/s]\n",
      "6571it [00:00, 65708.03it/s]"
     ]
    },
    {
     "name": "stdout",
     "output_type": "stream",
     "text": [
      "49\n"
     ]
    },
    {
     "name": "stderr",
     "output_type": "stream",
     "text": [
      "1364986it [00:21, 62671.42it/s]\n",
      "6212it [00:00, 62115.91it/s]"
     ]
    },
    {
     "name": "stdout",
     "output_type": "stream",
     "text": [
      "50\n"
     ]
    },
    {
     "name": "stderr",
     "output_type": "stream",
     "text": [
      "1365328it [00:21, 62712.28it/s]\n",
      "6077it [00:00, 60757.17it/s]"
     ]
    },
    {
     "name": "stdout",
     "output_type": "stream",
     "text": [
      "51\n"
     ]
    },
    {
     "name": "stderr",
     "output_type": "stream",
     "text": [
      "1364619it [00:24, 56710.54it/s]\n",
      "5786it [00:00, 57856.74it/s]"
     ]
    },
    {
     "name": "stdout",
     "output_type": "stream",
     "text": [
      "52\n"
     ]
    },
    {
     "name": "stderr",
     "output_type": "stream",
     "text": [
      "1366986it [00:22, 59705.64it/s]\n",
      "5931it [00:00, 59299.03it/s]"
     ]
    },
    {
     "name": "stdout",
     "output_type": "stream",
     "text": [
      "53\n"
     ]
    },
    {
     "name": "stderr",
     "output_type": "stream",
     "text": [
      "1365501it [00:23, 58858.61it/s]\n",
      "5939it [00:00, 59386.09it/s]"
     ]
    },
    {
     "name": "stdout",
     "output_type": "stream",
     "text": [
      "54\n"
     ]
    },
    {
     "name": "stderr",
     "output_type": "stream",
     "text": [
      "1368897it [00:22, 60600.71it/s]\n",
      "5976it [00:00, 59759.49it/s]"
     ]
    },
    {
     "name": "stdout",
     "output_type": "stream",
     "text": [
      "55\n"
     ]
    },
    {
     "name": "stderr",
     "output_type": "stream",
     "text": [
      "1366229it [00:22, 59744.30it/s]\n",
      "6199it [00:00, 61989.47it/s]"
     ]
    },
    {
     "name": "stdout",
     "output_type": "stream",
     "text": [
      "56\n"
     ]
    },
    {
     "name": "stderr",
     "output_type": "stream",
     "text": [
      "1366634it [00:22, 60358.82it/s]\n",
      "12111it [00:00, 60494.97it/s]"
     ]
    },
    {
     "name": "stdout",
     "output_type": "stream",
     "text": [
      "57\n"
     ]
    },
    {
     "name": "stderr",
     "output_type": "stream",
     "text": [
      "1366568it [00:22, 61085.95it/s]\n",
      "6077it [00:00, 60757.17it/s]"
     ]
    },
    {
     "name": "stdout",
     "output_type": "stream",
     "text": [
      "58\n"
     ]
    },
    {
     "name": "stderr",
     "output_type": "stream",
     "text": [
      "1366043it [00:22, 60834.54it/s]\n",
      "5974it [00:00, 59739.49it/s]"
     ]
    },
    {
     "name": "stdout",
     "output_type": "stream",
     "text": [
      "59\n"
     ]
    },
    {
     "name": "stderr",
     "output_type": "stream",
     "text": [
      "1365926it [00:24, 56148.74it/s]\n",
      "6335it [00:00, 63347.04it/s]"
     ]
    },
    {
     "name": "stdout",
     "output_type": "stream",
     "text": [
      "60\n"
     ]
    },
    {
     "name": "stderr",
     "output_type": "stream",
     "text": [
      "1366304it [00:22, 61512.74it/s]\n",
      "2589it [00:00, 25885.52it/s]"
     ]
    },
    {
     "name": "stdout",
     "output_type": "stream",
     "text": [
      "61\n"
     ]
    },
    {
     "name": "stderr",
     "output_type": "stream",
     "text": [
      "1367750it [00:22, 60686.66it/s]\n",
      "3425it [00:00, 34245.71it/s]"
     ]
    },
    {
     "name": "stdout",
     "output_type": "stream",
     "text": [
      "62\n"
     ]
    },
    {
     "name": "stderr",
     "output_type": "stream",
     "text": [
      "1364545it [00:21, 62911.06it/s]\n",
      "6322it [00:00, 63219.46it/s]"
     ]
    },
    {
     "name": "stdout",
     "output_type": "stream",
     "text": [
      "63\n"
     ]
    },
    {
     "name": "stderr",
     "output_type": "stream",
     "text": [
      "1364259it [00:22, 62006.51it/s]\n",
      "10907it [00:00, 51931.19it/s]"
     ]
    },
    {
     "name": "stdout",
     "output_type": "stream",
     "text": [
      "64\n"
     ]
    },
    {
     "name": "stderr",
     "output_type": "stream",
     "text": [
      "1366142it [00:21, 62132.66it/s]\n",
      "6473it [00:00, 64728.52it/s]"
     ]
    },
    {
     "name": "stdout",
     "output_type": "stream",
     "text": [
      "65\n"
     ]
    },
    {
     "name": "stderr",
     "output_type": "stream",
     "text": [
      "1368220it [00:22, 61642.07it/s]\n",
      "12932it [00:00, 64743.71it/s]"
     ]
    },
    {
     "name": "stdout",
     "output_type": "stream",
     "text": [
      "66\n"
     ]
    },
    {
     "name": "stderr",
     "output_type": "stream",
     "text": [
      "1367162it [00:22, 61997.64it/s]\n",
      "6394it [00:00, 63933.35it/s]"
     ]
    },
    {
     "name": "stdout",
     "output_type": "stream",
     "text": [
      "67\n"
     ]
    },
    {
     "name": "stderr",
     "output_type": "stream",
     "text": [
      "1365948it [00:21, 62094.32it/s]\n",
      "12016it [00:00, 59919.85it/s]"
     ]
    },
    {
     "name": "stdout",
     "output_type": "stream",
     "text": [
      "68\n"
     ]
    },
    {
     "name": "stderr",
     "output_type": "stream",
     "text": [
      "1364858it [00:22, 61318.29it/s]\n",
      "6096it [00:00, 60951.63it/s]"
     ]
    },
    {
     "name": "stdout",
     "output_type": "stream",
     "text": [
      "69\n"
     ]
    },
    {
     "name": "stderr",
     "output_type": "stream",
     "text": [
      "1366646it [00:22, 62008.58it/s]\n",
      "6379it [00:00, 63786.72it/s]"
     ]
    },
    {
     "name": "stdout",
     "output_type": "stream",
     "text": [
      "70\n"
     ]
    },
    {
     "name": "stderr",
     "output_type": "stream",
     "text": [
      "1365028it [00:22, 61517.25it/s]\n",
      "6024it [00:00, 60237.62it/s]"
     ]
    },
    {
     "name": "stdout",
     "output_type": "stream",
     "text": [
      "71\n"
     ]
    },
    {
     "name": "stderr",
     "output_type": "stream",
     "text": [
      "1368314it [00:22, 61007.93it/s]\n",
      "6363it [00:00, 63624.75it/s]"
     ]
    },
    {
     "name": "stdout",
     "output_type": "stream",
     "text": [
      "72\n"
     ]
    },
    {
     "name": "stderr",
     "output_type": "stream",
     "text": [
      "1365873it [00:21, 62278.87it/s]\n",
      "6321it [00:00, 63204.03it/s]"
     ]
    },
    {
     "name": "stdout",
     "output_type": "stream",
     "text": [
      "73\n"
     ]
    },
    {
     "name": "stderr",
     "output_type": "stream",
     "text": [
      "1366562it [00:22, 60547.19it/s]\n",
      "6408it [00:00, 64058.37it/s]"
     ]
    },
    {
     "name": "stdout",
     "output_type": "stream",
     "text": [
      "74\n"
     ]
    },
    {
     "name": "stderr",
     "output_type": "stream",
     "text": [
      "1365774it [00:22, 61838.11it/s]\n",
      "6396it [00:00, 63957.01it/s]"
     ]
    },
    {
     "name": "stdout",
     "output_type": "stream",
     "text": [
      "75\n"
     ]
    },
    {
     "name": "stderr",
     "output_type": "stream",
     "text": [
      "1364113it [00:22, 60573.14it/s]\n",
      "13262it [00:00, 66584.34it/s]"
     ]
    },
    {
     "name": "stdout",
     "output_type": "stream",
     "text": [
      "76\n"
     ]
    },
    {
     "name": "stderr",
     "output_type": "stream",
     "text": [
      "1363330it [00:21, 63449.69it/s]\n",
      "6609it [00:00, 66084.86it/s]"
     ]
    },
    {
     "name": "stdout",
     "output_type": "stream",
     "text": [
      "77\n"
     ]
    },
    {
     "name": "stderr",
     "output_type": "stream",
     "text": [
      "1366721it [00:21, 62423.85it/s]\n",
      "6233it [00:00, 62314.91it/s]"
     ]
    },
    {
     "name": "stdout",
     "output_type": "stream",
     "text": [
      "78\n"
     ]
    },
    {
     "name": "stderr",
     "output_type": "stream",
     "text": [
      "1364952it [00:21, 62917.96it/s]\n",
      "6236it [00:00, 62359.02it/s]"
     ]
    },
    {
     "name": "stdout",
     "output_type": "stream",
     "text": [
      "79\n"
     ]
    },
    {
     "name": "stderr",
     "output_type": "stream",
     "text": [
      "1364563it [00:21, 62847.38it/s]\n",
      "13243it [00:00, 66558.37it/s]"
     ]
    },
    {
     "name": "stdout",
     "output_type": "stream",
     "text": [
      "80\n"
     ]
    },
    {
     "name": "stderr",
     "output_type": "stream",
     "text": [
      "1365523it [00:21, 62277.67it/s]\n",
      "6568it [00:00, 65674.74it/s]"
     ]
    },
    {
     "name": "stdout",
     "output_type": "stream",
     "text": [
      "81\n"
     ]
    },
    {
     "name": "stderr",
     "output_type": "stream",
     "text": [
      "1365028it [00:21, 63410.37it/s]\n",
      "6288it [00:00, 62871.37it/s]"
     ]
    },
    {
     "name": "stdout",
     "output_type": "stream",
     "text": [
      "82\n"
     ]
    },
    {
     "name": "stderr",
     "output_type": "stream",
     "text": [
      "1366906it [00:21, 63026.98it/s]\n",
      "6291it [00:00, 62906.61it/s]"
     ]
    },
    {
     "name": "stdout",
     "output_type": "stream",
     "text": [
      "83\n"
     ]
    },
    {
     "name": "stderr",
     "output_type": "stream",
     "text": [
      "1367460it [00:21, 62347.62it/s]\n",
      "6276it [00:00, 62756.47it/s]"
     ]
    },
    {
     "name": "stdout",
     "output_type": "stream",
     "text": [
      "84\n"
     ]
    },
    {
     "name": "stderr",
     "output_type": "stream",
     "text": [
      "1366204it [00:21, 62100.20it/s]\n",
      "6184it [00:00, 61837.55it/s]"
     ]
    },
    {
     "name": "stdout",
     "output_type": "stream",
     "text": [
      "85\n"
     ]
    },
    {
     "name": "stderr",
     "output_type": "stream",
     "text": [
      "1363977it [00:21, 62903.61it/s]\n",
      "6005it [00:00, 60044.04it/s]"
     ]
    },
    {
     "name": "stdout",
     "output_type": "stream",
     "text": [
      "86\n"
     ]
    },
    {
     "name": "stderr",
     "output_type": "stream",
     "text": [
      "1368014it [00:21, 62321.73it/s]\n",
      "6640it [00:00, 66398.16it/s]"
     ]
    },
    {
     "name": "stdout",
     "output_type": "stream",
     "text": [
      "87\n"
     ]
    },
    {
     "name": "stderr",
     "output_type": "stream",
     "text": [
      "1364573it [00:22, 59498.38it/s]\n",
      "5988it [00:00, 59869.07it/s]"
     ]
    },
    {
     "name": "stdout",
     "output_type": "stream",
     "text": [
      "88\n"
     ]
    },
    {
     "name": "stderr",
     "output_type": "stream",
     "text": [
      "1366777it [00:22, 59772.72it/s]\n",
      "12365it [00:00, 61791.15it/s]"
     ]
    },
    {
     "name": "stdout",
     "output_type": "stream",
     "text": [
      "89\n"
     ]
    },
    {
     "name": "stderr",
     "output_type": "stream",
     "text": [
      "1366421it [00:21, 63038.00it/s]\n",
      "6211it [00:00, 62099.70it/s]"
     ]
    },
    {
     "name": "stdout",
     "output_type": "stream",
     "text": [
      "90\n"
     ]
    },
    {
     "name": "stderr",
     "output_type": "stream",
     "text": [
      "1365306it [00:21, 63654.50it/s]\n",
      "6206it [00:00, 62050.59it/s]"
     ]
    },
    {
     "name": "stdout",
     "output_type": "stream",
     "text": [
      "91\n"
     ]
    },
    {
     "name": "stderr",
     "output_type": "stream",
     "text": [
      "1365782it [00:21, 62554.33it/s]\n",
      "6176it [00:00, 61754.02it/s]"
     ]
    },
    {
     "name": "stdout",
     "output_type": "stream",
     "text": [
      "92\n"
     ]
    },
    {
     "name": "stderr",
     "output_type": "stream",
     "text": [
      "1367685it [00:21, 62559.84it/s]\n",
      "6220it [00:00, 62195.02it/s]"
     ]
    },
    {
     "name": "stdout",
     "output_type": "stream",
     "text": [
      "93\n"
     ]
    },
    {
     "name": "stderr",
     "output_type": "stream",
     "text": [
      "1365016it [00:21, 62710.94it/s]\n",
      "6586it [00:00, 65858.34it/s]"
     ]
    },
    {
     "name": "stdout",
     "output_type": "stream",
     "text": [
      "94\n"
     ]
    },
    {
     "name": "stderr",
     "output_type": "stream",
     "text": [
      "1366596it [00:21, 62869.53it/s]\n",
      "12502it [00:00, 63537.48it/s]"
     ]
    },
    {
     "name": "stdout",
     "output_type": "stream",
     "text": [
      "95\n"
     ]
    },
    {
     "name": "stderr",
     "output_type": "stream",
     "text": [
      "1369090it [00:22, 62005.41it/s]\n",
      "6213it [00:00, 62125.47it/s]"
     ]
    },
    {
     "name": "stdout",
     "output_type": "stream",
     "text": [
      "96\n"
     ]
    },
    {
     "name": "stderr",
     "output_type": "stream",
     "text": [
      "1366006it [00:21, 62996.11it/s]\n",
      "12360it [00:00, 61750.85it/s]"
     ]
    },
    {
     "name": "stdout",
     "output_type": "stream",
     "text": [
      "97\n"
     ]
    },
    {
     "name": "stderr",
     "output_type": "stream",
     "text": [
      "1364969it [00:21, 64078.14it/s]\n",
      "6510it [00:00, 65090.91it/s]"
     ]
    },
    {
     "name": "stdout",
     "output_type": "stream",
     "text": [
      "98\n"
     ]
    },
    {
     "name": "stderr",
     "output_type": "stream",
     "text": [
      "1367399it [00:23, 59293.87it/s]\n",
      "6066it [00:00, 60656.73it/s]"
     ]
    },
    {
     "name": "stdout",
     "output_type": "stream",
     "text": [
      "99\n"
     ]
    },
    {
     "name": "stderr",
     "output_type": "stream",
     "text": [
      "1367311it [00:22, 60097.23it/s]\n"
     ]
    }
   ],
   "source": [
    "with open(\"20200705v1/acl/cited_metadata.jsonl\", \"a\") as cited_meta:\n",
    "    for BATCH_ID in range(100):\n",
    "        print(BATCH_ID)\n",
    "        # filter papers using metadata values\n",
    "        filtered_paper_id = []\n",
    "        with open(f'20200705v1/full/metadata/metadata_{BATCH_ID}.jsonl') as f_meta:\n",
    "            for line in tqdm(f_meta):\n",
    "                metadata_dict = json.loads(line)\n",
    "                paper_id = metadata_dict['paper_id']\n",
    "                #print(f\"Currently viewing S2ORC paper: {paper_id}\")\n",
    "                if paper_id in all_ref_paper_ids:\n",
    "                    cited_meta.write(line)"
   ]
  },
  {
   "cell_type": "code",
   "execution_count": null,
   "metadata": {},
   "outputs": [],
   "source": []
  }
 ],
 "metadata": {
  "kernelspec": {
   "display_name": "Python 3",
   "language": "python",
   "name": "python3"
  },
  "language_info": {
   "codemirror_mode": {
    "name": "ipython",
    "version": 3
   },
   "file_extension": ".py",
   "mimetype": "text/x-python",
   "name": "python",
   "nbconvert_exporter": "python",
   "pygments_lexer": "ipython3",
   "version": "3.6.13"
  }
 },
 "nbformat": 4,
 "nbformat_minor": 4
}
